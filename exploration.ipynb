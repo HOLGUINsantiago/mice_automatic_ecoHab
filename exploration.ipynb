{
 "cells": [
  {
   "cell_type": "markdown",
   "id": "6d68a6ed",
   "metadata": {},
   "source": [
    "# Exploration pyEcohHab"
   ]
  },
  {
   "cell_type": "markdown",
   "id": "3d66ec28",
   "metadata": {},
   "source": [
    "## Variable definition\n",
    "Plese select the name of the project you want to analyse. At this moment, \"habituation_VAEVE\" is the current projecT"
   ]
  },
  {
   "cell_type": "code",
   "execution_count": 3,
   "id": "3bc895eb",
   "metadata": {},
   "outputs": [
    {
     "name": "stdout",
     "output_type": "stream",
     "text": [
      "no display found. Using non-interactive Agg backend\n",
      "no display found. Using non-interactive Agg backend\n",
      "Dates configuration file, to modify plese go to 'D:\\Bureau avant\\EcoHab-project\\pyEcoHAB\\src\\pyEcoHAB\\data\\habituation_VAEVE\\config.txt' :\n",
      "[EMPTY 1 dark]\n",
      "startdate = 10.02.2025\n",
      "starttime = 19:00\n",
      "enddate = 16.02.2025\n",
      "endtime = 07:00\n",
      "\n",
      "[EMPTY 1 light]\n",
      "startdate = 10.02.2025\n",
      "starttime = 07:00\n",
      "enddate = 16.02.2025\n",
      "endtime = 19:00\n",
      "D:\\Bureau avant\\EcoHab-project\\pyEcoHAB\\src\\pyEcoHAB\\data\\habituation_VAEVE\\setup.txt\n",
      "Read in 158 files from setup COM3\n"
     ]
    },
    {
     "data": {
      "text/plain": [
       "['0A155D1804',\n",
       " '33F05C1804',\n",
       " '3E085D1804',\n",
       " '46ED5C1804',\n",
       " '57035D1804',\n",
       " '5D18040000',\n",
       " '5FCF5C1804',\n",
       " 'AA025D1804',\n",
       " 'C40B5D1804',\n",
       " 'C8045D1804',\n",
       " 'CBE65C1804']"
      ]
     },
     "execution_count": 3,
     "metadata": {},
     "output_type": "execute_result"
    }
   ],
   "source": [
    "import pyEcoHAB\n",
    "import os\n",
    "\n",
    "dataPath = os.path.join(pyEcoHAB.data_path, \"habituation_VAEVE\")\n",
    "\n",
    "datesConfigPath = os.path.join(dataPath, \"config.txt\")\n",
    "\n",
    "print(f\"Dates configuration file, to modify plese go to '{datesConfigPath}' :\")\n",
    "for line in open(datesConfigPath):\n",
    "    print(line.strip())\n",
    "\n",
    "data = pyEcoHAB.Loader(dataPath)\n",
    "config = pyEcoHAB.Timeline(dataPath)\n",
    "\n",
    "data.get_mice()"
   ]
  },
  {
   "cell_type": "markdown",
   "id": "6b0a2e49",
   "metadata": {},
   "source": [
    "## Results extraction\n",
    "### Cage visits\n"
   ]
  },
  {
   "cell_type": "code",
   "execution_count": null,
   "id": "0d3331cd",
   "metadata": {},
   "outputs": [],
   "source": [
    "# Per hour : \n",
    "pyEcoHAB.get_activity(data, config, 3600, save_histogram=True)\n",
    "# Per day :\n",
    "pyEcoHAB.get_activity(data, config, 86400, save_histogram=True)\n",
    "# Per week :\n",
    "pyEcoHAB.get_activity(data, config, 604800, save_histogram=True)"
   ]
  },
  {
   "cell_type": "markdown",
   "id": "1883eb19",
   "metadata": {},
   "source": [
    "### Incohort sociability"
   ]
  },
  {
   "cell_type": "code",
   "execution_count": null,
   "id": "b4f1c339",
   "metadata": {},
   "outputs": [],
   "source": [
    "# Per hour : \n",
    "pyEcoHAB.get_incohort_sociability(data, config, 3600)\n",
    "# Per day :\n",
    "pyEcoHAB.get_incohort_sociability(data, config, 86400)\n",
    "# Per week :\n",
    "pyEcoHAB.get_incohort_sociability(data, config, 604800)"
   ]
  },
  {
   "cell_type": "markdown",
   "id": "56d93cd1",
   "metadata": {},
   "source": [
    "### Tube dominance"
   ]
  },
  {
   "cell_type": "code",
   "execution_count": null,
   "id": "ae591e04",
   "metadata": {},
   "outputs": [],
   "source": [
    "pyEcoHAB.get_tube_dominance(data, config, 2)"
   ]
  },
  {
   "cell_type": "markdown",
   "id": "28c2cd3b",
   "metadata": {},
   "source": [
    "### Dynamic interactions"
   ]
  },
  {
   "cell_type": "code",
   "execution_count": null,
   "id": "c6093e83",
   "metadata": {},
   "outputs": [],
   "source": [
    "pyEcoHAB.get_dynamic_interactions(data, config, 2)"
   ]
  },
  {
   "cell_type": "markdown",
   "id": "2fc5b6a8",
   "metadata": {},
   "source": [
    "### Antenna transitions durations"
   ]
  },
  {
   "cell_type": "code",
   "execution_count": null,
   "id": "36d87c1b",
   "metadata": {},
   "outputs": [],
   "source": [
    "transitions = pyEcoHAB.get_antenna_transition_durations(data, config)\n",
    "pyEcoHAB.get_light_dark_transitions(transitions)"
   ]
  },
  {
   "cell_type": "markdown",
   "id": "9bcdc561",
   "metadata": {},
   "source": [
    "### Registration trains"
   ]
  },
  {
   "cell_type": "code",
   "execution_count": null,
   "id": "65c74061",
   "metadata": {},
   "outputs": [],
   "source": [
    "pyEcoHAB.get_registration_trains(data)"
   ]
  },
  {
   "cell_type": "markdown",
   "id": "9178f125",
   "metadata": {},
   "source": [
    "### Solitude"
   ]
  },
  {
   "cell_type": "code",
   "execution_count": null,
   "id": "a0ad69b4",
   "metadata": {},
   "outputs": [],
   "source": [
    "pyEcoHAB.get_solitude(data, config)"
   ]
  },
  {
   "cell_type": "markdown",
   "id": "59ce2ac2",
   "metadata": {},
   "source": [
    "## Important data extraction\n",
    "\n",
    "Once the images and csv files are created. We'll extract only data that is interesting for us"
   ]
  },
  {
   "cell_type": "code",
   "execution_count": 8,
   "id": "3675e845",
   "metadata": {},
   "outputs": [],
   "source": [
    "import shutil\n",
    "\n",
    "resultsInterestingDate = \"17.06.25\"\n",
    "resultsPath = os.path.join(dataPath, \"Results_\"+ resultsInterestingDate)\n",
    "\n",
    "newResultsPath = \"Results\""
   ]
  },
  {
   "cell_type": "markdown",
   "id": "c3cf9b0c",
   "metadata": {},
   "source": [
    "### Activity - Cage visits\n",
    "Copier tous les csv files. Ces csv pourront être traités avec le script R"
   ]
  },
  {
   "cell_type": "code",
   "execution_count": 26,
   "id": "0a83bac0",
   "metadata": {},
   "outputs": [],
   "source": [
    "activity_path = os.path.join(resultsPath, \"activity\")\n",
    "if os.path.exists(activity_path):\n",
    "    shutil.copytree(activity_path, os.path.join(newResultsPath, \"activity\"), dirs_exist_ok=True)\n",
    "else:\n",
    "    print(f\"[ERROR] Ruta no encontrada: {activity_path}\")"
   ]
  },
  {
   "cell_type": "markdown",
   "id": "4754b24c",
   "metadata": {},
   "source": [
    "### Incohort sociability\n",
    "Copier uniquement les images"
   ]
  },
  {
   "cell_type": "code",
   "execution_count": null,
   "id": "fd847c2f",
   "metadata": {},
   "outputs": [
    {
     "name": "stdout",
     "output_type": "stream",
     "text": [
      "Copiado CSV: D:\\Bureau avant\\EcoHab-project\\pyEcoHAB\\src\\pyEcoHAB\\data\\habituation_VAEVE\\Results_17.06.25\\incohort_sociability\\histograms\\bins_1.00_h\\data\\incohort_sociability_excess_time__EMPTY_1_dark_1.00h_.csv → Results\\sociability\\bins_1.00_h_incohort_sociability_excess_time__EMPTY_1_dark_1.00h_.csv\n",
      "Copiado CSV: D:\\Bureau avant\\EcoHab-project\\pyEcoHAB\\src\\pyEcoHAB\\data\\habituation_VAEVE\\Results_17.06.25\\incohort_sociability\\histograms\\bins_1.00_h\\data\\incohort_sociability_excess_time__EMPTY_1_light_1.00h_.csv → Results\\sociability\\bins_1.00_h_incohort_sociability_excess_time__EMPTY_1_light_1.00h_.csv\n",
      "Copiado CSV: D:\\Bureau avant\\EcoHab-project\\pyEcoHAB\\src\\pyEcoHAB\\data\\habituation_VAEVE\\Results_17.06.25\\incohort_sociability\\histograms\\bins_1.00_h\\data\\incohort_sociability_excess_time__SECOND_1_dark_1.00h_.csv → Results\\sociability\\bins_1.00_h_incohort_sociability_excess_time__SECOND_1_dark_1.00h_.csv\n",
      "Copiado CSV: D:\\Bureau avant\\EcoHab-project\\pyEcoHAB\\src\\pyEcoHAB\\data\\habituation_VAEVE\\Results_17.06.25\\incohort_sociability\\histograms\\bins_1.00_h\\data\\incohort_sociability_excess_time__SECOND_1_light_1.00h_.csv → Results\\sociability\\bins_1.00_h_incohort_sociability_excess_time__SECOND_1_light_1.00h_.csv\n",
      "Copiado CSV: D:\\Bureau avant\\EcoHab-project\\pyEcoHAB\\src\\pyEcoHAB\\data\\habituation_VAEVE\\Results_17.06.25\\incohort_sociability\\histograms\\bins_168.00_h\\data\\incohort_sociability_excess_time__1_x_168.00h_.csv → Results\\sociability\\bins_168.00_h_incohort_sociability_excess_time__1_x_168.00h_.csv\n",
      "Copiado figs: D:\\Bureau avant\\EcoHab-project\\pyEcoHAB\\src\\pyEcoHAB\\data\\habituation_VAEVE\\Results_17.06.25\\incohort_sociability\\histograms\\bins_24.00_h\\figs → Results\\bins_24.00_h_figs_sociability\n"
     ]
    }
   ],
   "source": [
    "sociabPath = os.path.join(resultsPath, \"incohort_sociability\", \"histograms\")\n",
    "\n",
    "for root, dirs, files in os.walk(sociabPath):\n",
    "    for dirname in dirs:\n",
    "        subfolder_path = os.path.join(root, dirname)\n",
    "        \n",
    "        # Verifica si contiene una carpeta \"figs\"\n",
    "        figs_path = os.path.join(subfolder_path, \"figs\")\n",
    "        if os.path.isdir(figs_path):\n",
    "            dest_path = os.path.join(newResultsPath, dirname + \"_figs_sociability\")\n",
    "            shutil.copytree(figs_path, dest_path, dirs_exist_ok=True)\n",
    "            print(f\"Copiado figs: {figs_path} → {dest_path}\")\n",
    "\n",
    "        data_path = os.path.join(subfolder_path, \"data\")\n",
    "        if os.path.isdir(data_path):\n",
    "            for file in os.listdir(data_path):\n",
    "                if file.endswith(\".csv\") and \"excess_time\" in file:\n",
    "                    src_file = os.path.join(data_path, file)\n",
    "                    dst_file = os.path.join(newResultsPath, \"sociability\")\n",
    "                    if not os.path.exists(dst_file):\n",
    "                        os.makedirs(dst_file)\n",
    "                    dst_file = os.path.join(newResultsPath, \"sociability\" ,dirname  + \"_\" + file  )\n",
    "                    shutil.copy2(src_file, dst_file)\n",
    "                    print(f\"Copiado CSV: {src_file} → {dst_file}\")\n",
    "    break  # Solo primer nivel de carpetas"
   ]
  },
  {
   "cell_type": "markdown",
   "id": "2f18c6d9",
   "metadata": {},
   "source": [
    "### Tube dominance\n",
    "Same logic that for socaibility"
   ]
  },
  {
   "cell_type": "code",
   "execution_count": 29,
   "id": "f297d7c7",
   "metadata": {},
   "outputs": [
    {
     "name": "stdout",
     "output_type": "stream",
     "text": [
      "Copiado figs: D:\\Bureau avant\\EcoHab-project\\pyEcoHAB\\src\\pyEcoHAB\\data\\habituation_VAEVE\\Results_17.06.25\\tube_dominance\\histograms\\bins_whole_phase\\figs → Results\\bins_whole_phase_figs_tubeDominance\n",
      "Copiado CSV: D:\\Bureau avant\\EcoHab-project\\pyEcoHAB\\src\\pyEcoHAB\\data\\habituation_VAEVE\\Results_17.06.25\\tube_dominance\\histograms\\bins_whole_phase\\data\\excess_tube_dominance___mean_N_2__EMPTY_1_dark_.csv → Results\\tubeDominance\\bins_whole_phase_excess_tube_dominance___mean_N_2__EMPTY_1_dark_.csv\n",
      "Copiado CSV: D:\\Bureau avant\\EcoHab-project\\pyEcoHAB\\src\\pyEcoHAB\\data\\habituation_VAEVE\\Results_17.06.25\\tube_dominance\\histograms\\bins_whole_phase\\data\\excess_tube_dominance___mean_N_2__EMPTY_1_light_.csv → Results\\tubeDominance\\bins_whole_phase_excess_tube_dominance___mean_N_2__EMPTY_1_light_.csv\n",
      "Copiado CSV: D:\\Bureau avant\\EcoHab-project\\pyEcoHAB\\src\\pyEcoHAB\\data\\habituation_VAEVE\\Results_17.06.25\\tube_dominance\\histograms\\bins_whole_phase\\data\\excess_tube_dominance___mean_N_2__SECOND_1_dark_.csv → Results\\tubeDominance\\bins_whole_phase_excess_tube_dominance___mean_N_2__SECOND_1_dark_.csv\n",
      "Copiado CSV: D:\\Bureau avant\\EcoHab-project\\pyEcoHAB\\src\\pyEcoHAB\\data\\habituation_VAEVE\\Results_17.06.25\\tube_dominance\\histograms\\bins_whole_phase\\data\\excess_tube_dominance___mean_N_2__SECOND_1_light_.csv → Results\\tubeDominance\\bins_whole_phase_excess_tube_dominance___mean_N_2__SECOND_1_light_.csv\n"
     ]
    }
   ],
   "source": [
    "dominancePath = os.path.join(resultsPath, \"tube_dominance\", \"histograms\")\n",
    "\n",
    "for root, dirs, files in os.walk(dominancePath):\n",
    "    for dirname in dirs:\n",
    "        subfolder_path = os.path.join(root, dirname)\n",
    "        \n",
    "        # Verifica si contiene una carpeta \"figs\"\n",
    "        figs_path = os.path.join(subfolder_path, \"figs\")\n",
    "        if os.path.isdir(figs_path):\n",
    "            dest_path = os.path.join(newResultsPath, dirname + \"_figs_tubeDominance\")\n",
    "            shutil.copytree(figs_path, dest_path, dirs_exist_ok=True)\n",
    "            print(f\"Copiado figs: {figs_path} → {dest_path}\")\n",
    "            data_path = os.path.join(subfolder_path, \"data\")\n",
    "        if os.path.isdir(data_path):\n",
    "            for file in os.listdir(data_path):\n",
    "                if file.endswith(\".csv\") and \"excess\" in file:\n",
    "                    src_file = os.path.join(data_path, file)\n",
    "                    dst_file = os.path.join(newResultsPath, \"tubeDominance\")\n",
    "                    if not os.path.exists(dst_file):\n",
    "                        os.makedirs(dst_file)\n",
    "                    dst_file = os.path.join(newResultsPath, \"tubeDominance\", dirname + \"_\" + file)\n",
    "                    shutil.copy2(src_file, dst_file)\n",
    "                    print(f\"Copiado CSV: {src_file} → {dst_file}\")\n",
    "    break  # Solo primer nivel de carpetas"
   ]
  },
  {
   "cell_type": "markdown",
   "id": "4401fdbf",
   "metadata": {},
   "source": [
    "### Dynamic interactions - followings\n",
    "Same logic that for socaibility"
   ]
  },
  {
   "cell_type": "code",
   "execution_count": 28,
   "id": "eeaeeef4",
   "metadata": {},
   "outputs": [
    {
     "name": "stdout",
     "output_type": "stream",
     "text": [
      "Copiado figs: D:\\Bureau avant\\EcoHab-project\\pyEcoHAB\\src\\pyEcoHAB\\data\\habituation_VAEVE\\Results_17.06.25\\dynamic_interactions\\histograms\\bins_whole_phase\\figs → Results\\bins_whole_phase_followings\n",
      "Copiado CSV: D:\\Bureau avant\\EcoHab-project\\pyEcoHAB\\src\\pyEcoHAB\\data\\habituation_VAEVE\\Results_17.06.25\\dynamic_interactions\\histograms\\bins_whole_phase\\data\\excess_dynamic_interactions___mean_N_2__EMPTY_1_dark_.csv → Results\\followings\\bins_whole_phase_excess_dynamic_interactions___mean_N_2__EMPTY_1_dark_.csv\n",
      "Copiado CSV: D:\\Bureau avant\\EcoHab-project\\pyEcoHAB\\src\\pyEcoHAB\\data\\habituation_VAEVE\\Results_17.06.25\\dynamic_interactions\\histograms\\bins_whole_phase\\data\\excess_dynamic_interactions___mean_N_2__EMPTY_1_light_.csv → Results\\followings\\bins_whole_phase_excess_dynamic_interactions___mean_N_2__EMPTY_1_light_.csv\n"
     ]
    }
   ],
   "source": [
    "followingsPath = os.path.join(resultsPath, \"dynamic_interactions\", \"histograms\")\n",
    "\n",
    "for root, dirs, files in os.walk(followingsPath):\n",
    "    for dirname in dirs:\n",
    "        subfolder_path = os.path.join(root, dirname)\n",
    "        \n",
    "        # Verifica si contiene una carpeta \"figs\"\n",
    "        figs_path = os.path.join(subfolder_path, \"figs\")\n",
    "        if os.path.isdir(figs_path):\n",
    "            dest_path = os.path.join(newResultsPath, dirname + \"_followings\")\n",
    "            shutil.copytree(figs_path, dest_path, dirs_exist_ok=True)\n",
    "            print(f\"Copiado figs: {figs_path} → {dest_path}\")\n",
    "        data_path = os.path.join(subfolder_path, \"data\")\n",
    "        if os.path.isdir(data_path):\n",
    "            for file in os.listdir(data_path):\n",
    "                if file.endswith(\".csv\") and \"excess\" in file:\n",
    "                    src_file = os.path.join(data_path, file)\n",
    "                    dst_file = os.path.join(newResultsPath, \"followings\")\n",
    "                    if not os.path.exists(dst_file):\n",
    "                        os.makedirs(dst_file)\n",
    "                    dst_file = os.path.join(newResultsPath, \"followings\", dirname + \"_\" + file)\n",
    "                    shutil.copy2(src_file, dst_file)\n",
    "                    print(f\"Copiado CSV: {src_file} → {dst_file}\")\n",
    "    break  # Solo primer nivel de carpetas"
   ]
  },
  {
   "cell_type": "markdown",
   "id": "427cc18f",
   "metadata": {},
   "source": [
    "### Antenna transitions\n",
    "Copier toutes les figures. Elles ne seront utilisées qu'en cas de besoin"
   ]
  },
  {
   "cell_type": "code",
   "execution_count": null,
   "id": "e702f2b0",
   "metadata": {},
   "outputs": [],
   "source": [
    "correct_antenna_transition_path = os.path.join(resultsPath, \"antenna_transitions\",\"correct_antenna_transition\")\n",
    "if os.path.exists(correct_antenna_transition_path):\n",
    "    shutil.copytree(correct_antenna_transition_path, os.path.join(newResultsPath, \"supp\", \"correct_antenna_transition\"), dirs_exist_ok=True)\n",
    "else:\n",
    "    print(f\"[ERROR] Ruta no encontrada: {correct_antenna_transition_path}\")"
   ]
  },
  {
   "cell_type": "markdown",
   "id": "fdc602ce",
   "metadata": {},
   "source": [
    "### Registration trains\n",
    "Copier toutes les figures. Elles ne seront utilisées qu'en cas de besoin.\n",
    "\n",
    "**Graphique 1 :**\n",
    "\n",
    "- Axe X : durations (en secondes)\n",
    "- Axe Y : counts (nombre d’occurrences)\n",
    "\n",
    "Ce que ça montre :\n",
    "\n",
    "Pour chaque durée de \"train\" (temps passé consécutivement sur une antenne), combien de fois cette durée a été observée.\n",
    "\n",
    "\n",
    "Exemple :\n",
    "\n",
    "\n",
    "Si tu vois un pic à 2 secondes, cela veut dire que la plupart des trains durent environ 2 secondes.\n",
    "Une queue vers la droite indique que parfois, les souris restent longtemps sur la même antenne.\n",
    "Interprétation :\n",
    "\n",
    "\n",
    "\n",
    "Pic à gauche : passages brefs, souris mobiles.\n",
    "Valeurs élevées à droite : immobilité ou exploration prolongée sur une antenne.\n",
    "\n",
    "\n",
    "\n",
    "**Graphique 2 :**\n",
    "\n",
    "- Axe X : # registrations (nombre de détections consécutives dans un train)\n",
    "- Axe Y : counts (nombre d’occurrences)\n",
    "\n",
    "\n",
    "Ce que ça montre :\n",
    "\n",
    "Pour chaque nombre de détections consécutives, combien de trains de cette taille ont été observés.\n",
    "\n",
    "\n",
    "Exemple :\n",
    "\n",
    "\n",
    "Un pic à 3 signifie que la plupart des trains comportent 3 détections consécutives.\n",
    "Une longue queue indique que parfois, la souris reste longtemps détectée sans bouger."
   ]
  },
  {
   "cell_type": "code",
   "execution_count": null,
   "id": "d06ecdc8",
   "metadata": {},
   "outputs": [],
   "source": [
    "trains_of_registrations_path = os.path.join(resultsPath, \"trains_of_registrations\", \"figs\")\n",
    "if os.path.exists(trains_of_registrations_path):\n",
    "    shutil.copytree(trains_of_registrations_path, os.path.join(newResultsPath, \"supp\", \"trains_of_registrations\"), dirs_exist_ok=True)\n",
    "else:\n",
    "    print(f\"[ERROR] Ruta no encontrada: {trains_of_registrations_path}\")"
   ]
  },
  {
   "cell_type": "markdown",
   "id": "cd069dac",
   "metadata": {},
   "source": [
    "### Solitude\n",
    "csv à exploiter avec R"
   ]
  },
  {
   "cell_type": "code",
   "execution_count": 20,
   "id": "d2c1c08d",
   "metadata": {},
   "outputs": [],
   "source": [
    "solitude_path = os.path.join(resultsPath, \"solitude\")\n",
    "if os.path.exists(solitude_path):\n",
    "    shutil.copytree(solitude_path, os.path.join(newResultsPath, \"solitude\"), dirs_exist_ok=True)\n",
    "else:\n",
    "    print(f\"[ERROR] Ruta no encontrada: {solitude_path}\")"
   ]
  }
 ],
 "metadata": {
  "kernelspec": {
   "display_name": "EcoH",
   "language": "python",
   "name": "python3"
  },
  "language_info": {
   "codemirror_mode": {
    "name": "ipython",
    "version": 3
   },
   "file_extension": ".py",
   "mimetype": "text/x-python",
   "name": "python",
   "nbconvert_exporter": "python",
   "pygments_lexer": "ipython3",
   "version": "3.8.20"
  }
 },
 "nbformat": 4,
 "nbformat_minor": 5
}
