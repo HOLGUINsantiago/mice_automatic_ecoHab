version https://git-lfs.github.com/spec/v1
oid sha256:63d73cc9ab12d0d14a4dc8c22505fbf0036ce6e415c6c49e4132582eeea71db2
size 74574024
